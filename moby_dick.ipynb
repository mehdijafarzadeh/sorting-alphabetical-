{
 "cells": [
  {
   "cell_type": "markdown",
   "metadata": {},
   "source": [
    "# Moby Dick Challenge\n",
    "\n",
    "#### Count the number of words in the full text of Moby Dick! \n",
    "\n",
    "- How many times does the word `whale` appear? \n",
    "- What are the top ten most used words? \n",
    "- Save the dictionary of word frequencies as a `json` file\n",
    "- Bonus: Create a line plot of the ordered word frequencies.\n",
    "\n",
    "Clean the text, store each unique word as a key in a dictionary and the corresponding word frequency as its value. The resulting data structure should look like this:\n",
    "\n",
    "```python\n",
    "{\n",
    "    'the': 827,\n",
    "    'python': 34,\n",
    "    ...\n",
    "}    \n",
    "```\n",
    "---\n",
    "## Hints\n",
    "\n",
    "These functions might be useful to look at:\n",
    "\n",
    "```python\n",
    "open('myfile')\n",
    "txt = \"hallo\"\n",
    "txt.replace()\n",
    "txt.split()\n",
    "file.read()\n",
    "json.dump()\n",
    "```\n",
    "\n",
    "---\n",
    "\n",
    "## More Hints\n",
    "\n",
    "1. Read in the `./data/mobydick.txt` textfile as a single string (use the `f.read()` function of the file connection object `f`). Store the string in a variable with the name `txt`.\n",
    "2. Convert everything to lowercase.\n",
    "3. Remove the line breaks `\\n` (Hint: Use the `txt.replace(old, new)` function to replace substrings in `txt` with `' '`). Are there any other characters that you could clean from the text?\n",
    "4. Split the cleaned text using whitespace as separator (look at the `txt.split()` function). You get a list of single words.\n",
    "5. Create an empty dictionary. Loop over the list of words:\n",
    "    - Check if the word is already in the dictionary.\n",
    "        - If `yes`, increase the counter for this word by `1`.\n",
    "        - If `no`, add it as key to the dictionary and assign it the value `0`.\n",
    "6. To save a `json` file look here: https://stackabuse.com/reading-and-writing-json-to-a-file-in-python/"
   ]
  },
  {
   "cell_type": "code",
   "execution_count": 5,
   "metadata": {
    "scrolled": false
   },
   "outputs": [
    {
     "name": "stdout",
     "output_type": "stream",
     "text": [
      "['the', 'project', 'gutenberg', 'ebook', 'of', 'moby', 'dick;', 'or', 'the', 'whale,']\n"
     ]
    }
   ],
   "source": [
    "filename = './data/mobydick.txt'\n",
    "file = open(filename, 'rt')\n",
    "text = file.read()\n",
    "file.close()\n",
    "words = text.replace('\\n', '')\n",
    "# split into words by white space\n",
    "words = text.split()\n",
    "# convert to lower case\n",
    "words = [word.lower() for word in words]\n",
    "print(words[:10])"
   ]
  },
  {
   "cell_type": "code",
   "execution_count": 7,
   "metadata": {},
   "outputs": [
    {
     "ename": "NameError",
     "evalue": "name 'stripped' is not defined",
     "output_type": "error",
     "traceback": [
      "\u001b[0;31m---------------------------------------------------------------------------\u001b[0m",
      "\u001b[0;31mNameError\u001b[0m                                 Traceback (most recent call last)",
      "\u001b[0;32m<ipython-input-7-c67e67422063>\u001b[0m in \u001b[0;36m<module>\u001b[0;34m\u001b[0m\n\u001b[1;32m      3\u001b[0m \u001b[0mtable\u001b[0m \u001b[0;34m=\u001b[0m \u001b[0mstr\u001b[0m\u001b[0;34m.\u001b[0m\u001b[0mmaketrans\u001b[0m\u001b[0;34m(\u001b[0m\u001b[0;34m''\u001b[0m\u001b[0;34m,\u001b[0m \u001b[0;34m''\u001b[0m\u001b[0;34m,\u001b[0m \u001b[0mstring\u001b[0m\u001b[0;34m.\u001b[0m\u001b[0mpunctuation\u001b[0m\u001b[0;34m)\u001b[0m\u001b[0;34m\u001b[0m\u001b[0;34m\u001b[0m\u001b[0m\n\u001b[1;32m      4\u001b[0m \u001b[0mwords\u001b[0m \u001b[0;34m=\u001b[0m \u001b[0;34m[\u001b[0m\u001b[0mw\u001b[0m\u001b[0;34m.\u001b[0m\u001b[0mtranslate\u001b[0m\u001b[0;34m(\u001b[0m\u001b[0mtable\u001b[0m\u001b[0;34m)\u001b[0m \u001b[0;32mfor\u001b[0m \u001b[0mw\u001b[0m \u001b[0;32min\u001b[0m \u001b[0mwords\u001b[0m\u001b[0;34m]\u001b[0m\u001b[0;34m\u001b[0m\u001b[0;34m\u001b[0m\u001b[0m\n\u001b[0;32m----> 5\u001b[0;31m \u001b[0mprint\u001b[0m\u001b[0;34m(\u001b[0m\u001b[0mstripped\u001b[0m\u001b[0;34m[\u001b[0m\u001b[0;34m:\u001b[0m\u001b[0;36m100\u001b[0m\u001b[0;34m]\u001b[0m\u001b[0;34m)\u001b[0m\u001b[0;34m\u001b[0m\u001b[0;34m\u001b[0m\u001b[0m\n\u001b[0m",
      "\u001b[0;31mNameError\u001b[0m: name 'stripped' is not defined"
     ]
    }
   ],
   "source": [
    "import string\n",
    "\n",
    "table = str.maketrans('', '', string.punctuation)\n",
    "words = [w.translate(table) for w in words]\n",
    "print(stripped[:100])"
   ]
  },
  {
   "cell_type": "code",
   "execution_count": 8,
   "metadata": {},
   "outputs": [
    {
     "name": "stdout",
     "output_type": "stream",
     "text": [
      "The most 10 top words:  [('the', 14524), ('of', 6708), ('and', 6410), ('a', 4668), ('to', 4652), ('in', 4187), ('that', 2918), ('his', 2516), ('it', 2323), ('i', 1845)]\n"
     ]
    }
   ],
   "source": [
    "import collections\n",
    "def top10_words(text):\n",
    "    counts = collections.Counter(text)\n",
    "    return counts.most_common(10)\n",
    "                                 \n",
    "print('The most 10 top words: ', top10_words(words))"
   ]
  },
  {
   "cell_type": "code",
   "execution_count": 11,
   "metadata": {
    "scrolled": true
   },
   "outputs": [],
   "source": [
    "import re\n",
    "\n",
    "unwanted_chars = \".,-_ (and so on)\"\n",
    "wordfreq = {}\n",
    "for word in words:\n",
    "    word = word.strip(unwanted_chars)\n",
    "    if word not in wordfreq:\n",
    "        wordfreq[word] = 0 \n",
    "    wordfreq[word] += 1\n",
    "# print(wordfreq)"
   ]
  },
  {
   "cell_type": "code",
   "execution_count": 14,
   "metadata": {
    "scrolled": true
   },
   "outputs": [
    {
     "data": {
      "text/html": [
       "<div>\n",
       "<style scoped>\n",
       "    .dataframe tbody tr th:only-of-type {\n",
       "        vertical-align: middle;\n",
       "    }\n",
       "\n",
       "    .dataframe tbody tr th {\n",
       "        vertical-align: top;\n",
       "    }\n",
       "\n",
       "    .dataframe thead th {\n",
       "        text-align: right;\n",
       "    }\n",
       "</style>\n",
       "<table border=\"1\" class=\"dataframe\">\n",
       "  <thead>\n",
       "    <tr style=\"text-align: right;\">\n",
       "      <th></th>\n",
       "      <th>key</th>\n",
       "      <th>value</th>\n",
       "    </tr>\n",
       "  </thead>\n",
       "  <tbody>\n",
       "    <tr>\n",
       "      <th>0</th>\n",
       "      <td>the</td>\n",
       "      <td>15127</td>\n",
       "    </tr>\n",
       "    <tr>\n",
       "      <th>1</th>\n",
       "      <td>project</td>\n",
       "      <td>88</td>\n",
       "    </tr>\n",
       "    <tr>\n",
       "      <th>2</th>\n",
       "      <td>gutenberg</td>\n",
       "      <td>24</td>\n",
       "    </tr>\n",
       "    <tr>\n",
       "      <th>3</th>\n",
       "      <td>ebook</td>\n",
       "      <td>17</td>\n",
       "    </tr>\n",
       "    <tr>\n",
       "      <th>4</th>\n",
       "      <td>f</td>\n",
       "      <td>6733</td>\n",
       "    </tr>\n",
       "  </tbody>\n",
       "</table>\n",
       "</div>"
      ],
      "text/plain": [
       "         key  value\n",
       "0        the  15127\n",
       "1    project     88\n",
       "2  gutenberg     24\n",
       "3      ebook     17\n",
       "4          f   6733"
      ]
     },
     "execution_count": 14,
     "metadata": {},
     "output_type": "execute_result"
    }
   ],
   "source": [
    "import pandas as pd\n",
    "\n",
    "df = pd.DataFrame(list(wordfreq.items()), columns = ['key','value'])\n",
    "df.head()"
   ]
  },
  {
   "cell_type": "code",
   "execution_count": 17,
   "metadata": {
    "scrolled": true
   },
   "outputs": [],
   "source": [
    "# df = df.set_index('key')\n",
    "# df.to_dict(orient = 'dict')['value']"
   ]
  },
  {
   "cell_type": "code",
   "execution_count": 18,
   "metadata": {},
   "outputs": [],
   "source": [
    "#list into dict!\n",
    "# dict(zip(test_keys, test_values))"
   ]
  },
  {
   "cell_type": "code",
   "execution_count": 19,
   "metadata": {
    "scrolled": true
   },
   "outputs": [
    {
     "name": "stdout",
     "output_type": "stream",
     "text": [
      "whale apeared:  1194\n"
     ]
    }
   ],
   "source": [
    "print('whale apeared: ', wordfreq.get('whale'))"
   ]
  },
  {
   "cell_type": "code",
   "execution_count": 20,
   "metadata": {},
   "outputs": [
    {
     "name": "stdout",
     "output_type": "stream",
     "text": [
      "whale\n",
      "1194\n"
     ]
    }
   ],
   "source": [
    "\n",
    "try:\n",
    "    word = input()\n",
    "    word = word.lower()\n",
    "    wordddd = wordfreq[f'{word}']\n",
    "    print(wordddd)\n",
    "except KeyError:\n",
    "    print ('thank you')"
   ]
  },
  {
   "cell_type": "code",
   "execution_count": 21,
   "metadata": {},
   "outputs": [
    {
     "data": {
      "text/plain": [
       "1194"
      ]
     },
     "execution_count": 21,
     "metadata": {},
     "output_type": "execute_result"
    }
   ],
   "source": [
    "wordfreq['whale']"
   ]
  },
  {
   "cell_type": "code",
   "execution_count": 22,
   "metadata": {},
   "outputs": [],
   "source": [
    "import json\n",
    "with open('./data/mobydick.json', 'w') as json_file:\n",
    "    json.dump(wordfreq, json_file)\n"
   ]
  },
  {
   "cell_type": "code",
   "execution_count": 23,
   "metadata": {},
   "outputs": [
    {
     "name": "stdout",
     "output_type": "stream",
     "text": [
      "['this', 'is', 'an', 'example', 'of', 'a', 'strings', 'and', 'just', 'for', 'fun!', 'there', 'is', 'a', 'list', 'of', 'a', 'numner', 'a', 'good', 'number', 'there', 'is', 'not', 'a', 'a', 'good', 'number', 'of', 'a', 'list']\n",
      "{'this': 1, 'is': 3, 'an': 1, 'example': 1, 'of': 3, 'a': 7, 'strings': 1, 'and': 1, 'just': 1, 'for': 1, 'fun!': 1, 'there': 2, 'list': 2, 'numner': 1, 'good': 2, 'number': 2, 'not': 1}\n"
     ]
    }
   ],
   "source": [
    "a= 'this is an example of a strings and just for fun! there is a list of a numner a good number there is not a a good number of a list'\n",
    "a= a.split()\n",
    "count = dict()\n",
    "for name in a:\n",
    "    count[name] = count.get(name, 0)+1\n",
    "print(a)\n",
    "\n",
    "print(count)"
   ]
  },
  {
   "cell_type": "code",
   "execution_count": 24,
   "metadata": {},
   "outputs": [
    {
     "data": {
      "text/plain": [
       "3"
      ]
     },
     "execution_count": 24,
     "metadata": {},
     "output_type": "execute_result"
    }
   ],
   "source": [
    "count['is']"
   ]
  },
  {
   "cell_type": "code",
   "execution_count": 25,
   "metadata": {},
   "outputs": [
    {
     "name": "stdout",
     "output_type": "stream",
     "text": [
      "whale\n",
      "try another word\n"
     ]
    }
   ],
   "source": [
    "w = input()\n",
    "try:\n",
    "    j = count[f'{w}']\n",
    "    print(j)\n",
    "except:\n",
    "    print('try another word')"
   ]
  },
  {
   "cell_type": "code",
   "execution_count": null,
   "metadata": {},
   "outputs": [],
   "source": []
  }
 ],
 "metadata": {
  "kernelspec": {
   "display_name": "Python 3",
   "language": "python",
   "name": "python3"
  },
  "language_info": {
   "codemirror_mode": {
    "name": "ipython",
    "version": 3
   },
   "file_extension": ".py",
   "mimetype": "text/x-python",
   "name": "python",
   "nbconvert_exporter": "python",
   "pygments_lexer": "ipython3",
   "version": "3.8.8"
  }
 },
 "nbformat": 4,
 "nbformat_minor": 2
}
