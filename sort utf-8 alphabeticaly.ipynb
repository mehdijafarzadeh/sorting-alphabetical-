{
 "cells": [
  {
   "cell_type": "code",
   "execution_count": 1,
   "id": "european-maintenance",
   "metadata": {},
   "outputs": [
    {
     "name": "stdout",
     "output_type": "stream",
     "text": [
      "['ali', 'çav', 'dîn', 'ebas', 'ê', 'hamid', 'îman', 'mohsen', 'reza', 'ûşî']\n"
     ]
    }
   ],
   "source": [
    "# How to sort words alphabetical in any Special languages\n",
    "\n",
    "list = ['hamid', 'reza', 'mohsen', 'ali', 'çav', 'dîn', 'ê', 'îman', 'ebas', 'ûşî']\n",
    "\n",
    "alphabet = \"a, b, c, ç, d,  e, ê, f, g, h, i, î, j, k, l, m, n, o, p, q, r, s, ş, t, u, û, v, w, x, y, z\"\n",
    "b = sorted(list, key=lambda word: [alphabet.index(c) for c in word])\n",
    "print(b)\n"
   ]
  },
  {
   "cell_type": "code",
   "execution_count": null,
   "id": "adjusted-enough",
   "metadata": {},
   "outputs": [],
   "source": []
  }
 ],
 "metadata": {
  "kernelspec": {
   "display_name": "Python 3",
   "language": "python",
   "name": "python3"
  },
  "language_info": {
   "codemirror_mode": {
    "name": "ipython",
    "version": 3
   },
   "file_extension": ".py",
   "mimetype": "text/x-python",
   "name": "python",
   "nbconvert_exporter": "python",
   "pygments_lexer": "ipython3",
   "version": "3.9.1"
  }
 },
 "nbformat": 4,
 "nbformat_minor": 5
}
