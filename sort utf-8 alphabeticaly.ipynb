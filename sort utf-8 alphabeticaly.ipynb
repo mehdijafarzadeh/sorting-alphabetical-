{
 "cells": [
  {
   "cell_type": "code",
   "execution_count": 1,
   "id": "european-maintenance",
   "metadata": {},
   "outputs": [
    {
     "name": "stdout",
     "output_type": "stream",
     "text": [
      "['arî', 'çav', 'derman', 'dîn', 'ewr', 'harr', 'îsal', 'mooon', 'roz', 'ûşî']\n"
     ]
    }
   ],
   "source": [
    "# How to sort words alphabetical in any specific languages\n",
    "\n",
    "list = ['harr', 'roz', 'mooon', 'arî', 'çav', 'dîn', 'derman', 'îsal', 'ewr', 'ûşî']\n",
    "\n",
    "alphabet = \"a, b, c, ç, d,  e, ê, f, g, h, i, î, j, k, l, m, n, o, p, q, r, s, ş, t, u, û, v, w, x, y, z\"\n",
    "b = sorted(list, key=lambda word: [alphabet.index(c) for c in word])\n",
    "print(b)\n"
   ]
  },
  {
   "cell_type": "code",
   "execution_count": null,
   "id": "adjusted-enough",
   "metadata": {},
   "outputs": [],
   "source": []
  }
 ],
 "metadata": {
  "kernelspec": {
   "display_name": "Python 3",
   "language": "python",
   "name": "python3"
  },
  "language_info": {
   "codemirror_mode": {
    "name": "ipython",
    "version": 3
   },
   "file_extension": ".py",
   "mimetype": "text/x-python",
   "name": "python",
   "nbconvert_exporter": "python",
   "pygments_lexer": "ipython3",
   "version": "3.8.8"
  }
 },
 "nbformat": 4,
 "nbformat_minor": 5
}
